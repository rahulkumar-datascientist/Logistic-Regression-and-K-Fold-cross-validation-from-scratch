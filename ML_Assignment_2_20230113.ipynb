{
  "nbformat": 4,
  "nbformat_minor": 0,
  "metadata": {
    "kernelspec": {
      "display_name": "Python 3",
      "language": "python",
      "name": "python3"
    },
    "language_info": {
      "codemirror_mode": {
        "name": "ipython",
        "version": 3
      },
      "file_extension": ".py",
      "mimetype": "text/x-python",
      "name": "python",
      "nbconvert_exporter": "python",
      "pygments_lexer": "ipython3",
      "version": "3.8.3"
    },
    "colab": {
      "name": "ML Assignment_2_20230113.ipynb",
      "provenance": [],
      "collapsed_sections": [],
      "include_colab_link": true
    }
  },
  "cells": [
    {
      "cell_type": "markdown",
      "metadata": {
        "id": "view-in-github",
        "colab_type": "text"
      },
      "source": [
        "<a href=\"https://colab.research.google.com/github/rahulkumar-datascientist/Logistic-Regression-and-K-Fold-cross-validation-from-scratch/blob/main/ML_Assignment_2_20230113.ipynb\" target=\"_parent\"><img src=\"https://colab.research.google.com/assets/colab-badge.svg\" alt=\"Open In Colab\"/></a>"
      ]
    },
    {
      "cell_type": "markdown",
      "metadata": {
        "id": "CRhhBuP6pGJD"
      },
      "source": [
        "# ML Assignment 2 - Implementing Logistic Regression and performing K-Fold cross validation from scratch \n",
        "\n",
        "And comparing with a reference sklearn model implementation"
      ]
    },
    {
      "cell_type": "markdown",
      "metadata": {
        "id": "ghVta7KApGJG"
      },
      "source": [
        "# Import important libraries"
      ]
    },
    {
      "cell_type": "code",
      "metadata": {
        "id": "3t713rvvpGJH"
      },
      "source": [
        "import pandas as pd                                 \n",
        "import numpy as np\n",
        "import matplotlib.pyplot as plt\n",
        "import seaborn as sn\n",
        "%matplotlib inline\n",
        "\n",
        "from sklearn.model_selection import train_test_split\n",
        "from sklearn.preprocessing import StandardScaler\n",
        "from sklearn.metrics import accuracy_score,roc_curve,auc\n",
        "from IPython.display import display "
      ],
      "execution_count": null,
      "outputs": []
    },
    {
      "cell_type": "markdown",
      "metadata": {
        "id": "Xv2u3YirpGJI"
      },
      "source": [
        "### 1. Data Pre-processing"
      ]
    },
    {
      "cell_type": "code",
      "metadata": {
        "id": "7VEvmOwapGJJ",
        "outputId": "3ff09279-8979-4394-d8f5-a1527698ea72"
      },
      "source": [
        "# Read the beer.txt file into pandas dataframe using delimiter \\t and explicitly gives names of columns using a list.\n",
        "data = pd.read_csv('beer.txt', sep = '\\t', \n",
        "                   names=[\"calorific_value\", \"nitrogen\", \"turbidity\", \"style\", \"alcohol\", \"sugars\", \"bitterness\", \"beer_id\", \"colour\", \"degree_of_fermentation\"])\n",
        "data.head()"
      ],
      "execution_count": null,
      "outputs": [
        {
          "output_type": "execute_result",
          "data": {
            "text/html": [
              "<div>\n",
              "<style scoped>\n",
              "    .dataframe tbody tr th:only-of-type {\n",
              "        vertical-align: middle;\n",
              "    }\n",
              "\n",
              "    .dataframe tbody tr th {\n",
              "        vertical-align: top;\n",
              "    }\n",
              "\n",
              "    .dataframe thead th {\n",
              "        text-align: right;\n",
              "    }\n",
              "</style>\n",
              "<table border=\"1\" class=\"dataframe\">\n",
              "  <thead>\n",
              "    <tr style=\"text-align: right;\">\n",
              "      <th></th>\n",
              "      <th>calorific_value</th>\n",
              "      <th>nitrogen</th>\n",
              "      <th>turbidity</th>\n",
              "      <th>style</th>\n",
              "      <th>alcohol</th>\n",
              "      <th>sugars</th>\n",
              "      <th>bitterness</th>\n",
              "      <th>beer_id</th>\n",
              "      <th>colour</th>\n",
              "      <th>degree_of_fermentation</th>\n",
              "    </tr>\n",
              "  </thead>\n",
              "  <tbody>\n",
              "    <tr>\n",
              "      <th>0</th>\n",
              "      <td>41.721239</td>\n",
              "      <td>0.503276</td>\n",
              "      <td>2.628182</td>\n",
              "      <td>ale</td>\n",
              "      <td>4.015385</td>\n",
              "      <td>16.73</td>\n",
              "      <td>10.452789</td>\n",
              "      <td>93</td>\n",
              "      <td>13.44</td>\n",
              "      <td>55.337143</td>\n",
              "    </tr>\n",
              "    <tr>\n",
              "      <th>1</th>\n",
              "      <td>42.429204</td>\n",
              "      <td>0.525512</td>\n",
              "      <td>1.776364</td>\n",
              "      <td>ale</td>\n",
              "      <td>4.092308</td>\n",
              "      <td>16.72</td>\n",
              "      <td>10.999526</td>\n",
              "      <td>103</td>\n",
              "      <td>12.24</td>\n",
              "      <td>58.380000</td>\n",
              "    </tr>\n",
              "    <tr>\n",
              "      <th>2</th>\n",
              "      <td>45.880531</td>\n",
              "      <td>0.443233</td>\n",
              "      <td>2.628182</td>\n",
              "      <td>ale</td>\n",
              "      <td>4.276923</td>\n",
              "      <td>16.68</td>\n",
              "      <td>13.456368</td>\n",
              "      <td>178</td>\n",
              "      <td>10.92</td>\n",
              "      <td>58.382857</td>\n",
              "    </tr>\n",
              "    <tr>\n",
              "      <th>3</th>\n",
              "      <td>45.305310</td>\n",
              "      <td>0.471668</td>\n",
              "      <td>1.806364</td>\n",
              "      <td>ale</td>\n",
              "      <td>4.126154</td>\n",
              "      <td>18.84</td>\n",
              "      <td>9.202737</td>\n",
              "      <td>166</td>\n",
              "      <td>10.92</td>\n",
              "      <td>58.525714</td>\n",
              "    </tr>\n",
              "    <tr>\n",
              "      <th>4</th>\n",
              "      <td>38.977876</td>\n",
              "      <td>0.392846</td>\n",
              "      <td>2.272727</td>\n",
              "      <td>ale</td>\n",
              "      <td>4.015385</td>\n",
              "      <td>16.77</td>\n",
              "      <td>9.457895</td>\n",
              "      <td>44</td>\n",
              "      <td>10.56</td>\n",
              "      <td>58.900000</td>\n",
              "    </tr>\n",
              "  </tbody>\n",
              "</table>\n",
              "</div>"
            ],
            "text/plain": [
              "   calorific_value  nitrogen  turbidity style   alcohol  sugars  bitterness  \\\n",
              "0        41.721239  0.503276   2.628182   ale  4.015385   16.73   10.452789   \n",
              "1        42.429204  0.525512   1.776364   ale  4.092308   16.72   10.999526   \n",
              "2        45.880531  0.443233   2.628182   ale  4.276923   16.68   13.456368   \n",
              "3        45.305310  0.471668   1.806364   ale  4.126154   18.84    9.202737   \n",
              "4        38.977876  0.392846   2.272727   ale  4.015385   16.77    9.457895   \n",
              "\n",
              "   beer_id  colour  degree_of_fermentation  \n",
              "0       93   13.44               55.337143  \n",
              "1      103   12.24               58.380000  \n",
              "2      178   10.92               58.382857  \n",
              "3      166   10.92               58.525714  \n",
              "4       44   10.56               58.900000  "
            ]
          },
          "metadata": {
            "tags": []
          },
          "execution_count": 2
        }
      ]
    },
    {
      "cell_type": "markdown",
      "metadata": {
        "id": "HHAyN9eypGJK"
      },
      "source": [
        "Data Cleansing"
      ]
    },
    {
      "cell_type": "code",
      "metadata": {
        "id": "kLNHxZlspGJK",
        "outputId": "2b7d8333-fc02-4009-c6a0-3b274fd3083b"
      },
      "source": [
        "data.info()"
      ],
      "execution_count": null,
      "outputs": [
        {
          "output_type": "stream",
          "text": [
            "<class 'pandas.core.frame.DataFrame'>\n",
            "RangeIndex: 154 entries, 0 to 153\n",
            "Data columns (total 10 columns):\n",
            " #   Column                  Non-Null Count  Dtype  \n",
            "---  ------                  --------------  -----  \n",
            " 0   calorific_value         154 non-null    float64\n",
            " 1   nitrogen                154 non-null    float64\n",
            " 2   turbidity               154 non-null    float64\n",
            " 3   style                   154 non-null    object \n",
            " 4   alcohol                 154 non-null    float64\n",
            " 5   sugars                  154 non-null    float64\n",
            " 6   bitterness              154 non-null    float64\n",
            " 7   beer_id                 154 non-null    int64  \n",
            " 8   colour                  154 non-null    float64\n",
            " 9   degree_of_fermentation  154 non-null    float64\n",
            "dtypes: float64(8), int64(1), object(1)\n",
            "memory usage: 12.2+ KB\n"
          ],
          "name": "stdout"
        }
      ]
    },
    {
      "cell_type": "markdown",
      "metadata": {
        "id": "qQ-fP74HpGJL"
      },
      "source": [
        "From info we find that there are no null values present in any attribute."
      ]
    },
    {
      "cell_type": "code",
      "metadata": {
        "scrolled": true,
        "id": "mMCsalEUpGJL",
        "outputId": "be2afdb3-9f98-46a8-acb1-d229e6b94926"
      },
      "source": [
        "data.describe().T"
      ],
      "execution_count": null,
      "outputs": [
        {
          "output_type": "execute_result",
          "data": {
            "text/html": [
              "<div>\n",
              "<style scoped>\n",
              "    .dataframe tbody tr th:only-of-type {\n",
              "        vertical-align: middle;\n",
              "    }\n",
              "\n",
              "    .dataframe tbody tr th {\n",
              "        vertical-align: top;\n",
              "    }\n",
              "\n",
              "    .dataframe thead th {\n",
              "        text-align: right;\n",
              "    }\n",
              "</style>\n",
              "<table border=\"1\" class=\"dataframe\">\n",
              "  <thead>\n",
              "    <tr style=\"text-align: right;\">\n",
              "      <th></th>\n",
              "      <th>count</th>\n",
              "      <th>mean</th>\n",
              "      <th>std</th>\n",
              "      <th>min</th>\n",
              "      <th>25%</th>\n",
              "      <th>50%</th>\n",
              "      <th>75%</th>\n",
              "      <th>max</th>\n",
              "    </tr>\n",
              "  </thead>\n",
              "  <tbody>\n",
              "    <tr>\n",
              "      <th>calorific_value</th>\n",
              "      <td>154.0</td>\n",
              "      <td>41.654580</td>\n",
              "      <td>2.614145</td>\n",
              "      <td>37.075221</td>\n",
              "      <td>39.254425</td>\n",
              "      <td>41.699115</td>\n",
              "      <td>44.011062</td>\n",
              "      <td>45.880531</td>\n",
              "    </tr>\n",
              "    <tr>\n",
              "      <th>nitrogen</th>\n",
              "      <td>154.0</td>\n",
              "      <td>0.320873</td>\n",
              "      <td>0.129646</td>\n",
              "      <td>0.107013</td>\n",
              "      <td>0.228851</td>\n",
              "      <td>0.285059</td>\n",
              "      <td>0.397022</td>\n",
              "      <td>0.742774</td>\n",
              "    </tr>\n",
              "    <tr>\n",
              "      <th>turbidity</th>\n",
              "      <td>154.0</td>\n",
              "      <td>1.885077</td>\n",
              "      <td>0.925583</td>\n",
              "      <td>0.290909</td>\n",
              "      <td>1.224318</td>\n",
              "      <td>1.737273</td>\n",
              "      <td>2.356591</td>\n",
              "      <td>5.217273</td>\n",
              "    </tr>\n",
              "    <tr>\n",
              "      <th>alcohol</th>\n",
              "      <td>154.0</td>\n",
              "      <td>4.006114</td>\n",
              "      <td>0.249450</td>\n",
              "      <td>3.393846</td>\n",
              "      <td>3.806154</td>\n",
              "      <td>4.023077</td>\n",
              "      <td>4.216923</td>\n",
              "      <td>4.563077</td>\n",
              "    </tr>\n",
              "    <tr>\n",
              "      <th>sugars</th>\n",
              "      <td>154.0</td>\n",
              "      <td>17.335909</td>\n",
              "      <td>1.116810</td>\n",
              "      <td>15.740000</td>\n",
              "      <td>16.592500</td>\n",
              "      <td>16.865000</td>\n",
              "      <td>18.082500</td>\n",
              "      <td>20.650000</td>\n",
              "    </tr>\n",
              "    <tr>\n",
              "      <th>bitterness</th>\n",
              "      <td>154.0</td>\n",
              "      <td>8.843541</td>\n",
              "      <td>3.344297</td>\n",
              "      <td>2.730211</td>\n",
              "      <td>6.182474</td>\n",
              "      <td>9.165263</td>\n",
              "      <td>11.382553</td>\n",
              "      <td>20.063789</td>\n",
              "    </tr>\n",
              "    <tr>\n",
              "      <th>beer_id</th>\n",
              "      <td>154.0</td>\n",
              "      <td>90.363636</td>\n",
              "      <td>50.862729</td>\n",
              "      <td>1.000000</td>\n",
              "      <td>46.250000</td>\n",
              "      <td>92.000000</td>\n",
              "      <td>132.750000</td>\n",
              "      <td>178.000000</td>\n",
              "    </tr>\n",
              "    <tr>\n",
              "      <th>colour</th>\n",
              "      <td>154.0</td>\n",
              "      <td>11.338130</td>\n",
              "      <td>2.789146</td>\n",
              "      <td>5.760000</td>\n",
              "      <td>9.030000</td>\n",
              "      <td>11.520000</td>\n",
              "      <td>13.290000</td>\n",
              "      <td>20.520000</td>\n",
              "    </tr>\n",
              "    <tr>\n",
              "      <th>degree_of_fermentation</th>\n",
              "      <td>154.0</td>\n",
              "      <td>65.963868</td>\n",
              "      <td>7.544715</td>\n",
              "      <td>37.034286</td>\n",
              "      <td>62.211071</td>\n",
              "      <td>66.015714</td>\n",
              "      <td>70.925714</td>\n",
              "      <td>87.238571</td>\n",
              "    </tr>\n",
              "  </tbody>\n",
              "</table>\n",
              "</div>"
            ],
            "text/plain": [
              "                        count       mean        std        min        25%  \\\n",
              "calorific_value         154.0  41.654580   2.614145  37.075221  39.254425   \n",
              "nitrogen                154.0   0.320873   0.129646   0.107013   0.228851   \n",
              "turbidity               154.0   1.885077   0.925583   0.290909   1.224318   \n",
              "alcohol                 154.0   4.006114   0.249450   3.393846   3.806154   \n",
              "sugars                  154.0  17.335909   1.116810  15.740000  16.592500   \n",
              "bitterness              154.0   8.843541   3.344297   2.730211   6.182474   \n",
              "beer_id                 154.0  90.363636  50.862729   1.000000  46.250000   \n",
              "colour                  154.0  11.338130   2.789146   5.760000   9.030000   \n",
              "degree_of_fermentation  154.0  65.963868   7.544715  37.034286  62.211071   \n",
              "\n",
              "                              50%         75%         max  \n",
              "calorific_value         41.699115   44.011062   45.880531  \n",
              "nitrogen                 0.285059    0.397022    0.742774  \n",
              "turbidity                1.737273    2.356591    5.217273  \n",
              "alcohol                  4.023077    4.216923    4.563077  \n",
              "sugars                  16.865000   18.082500   20.650000  \n",
              "bitterness               9.165263   11.382553   20.063789  \n",
              "beer_id                 92.000000  132.750000  178.000000  \n",
              "colour                  11.520000   13.290000   20.520000  \n",
              "degree_of_fermentation  66.015714   70.925714   87.238571  "
            ]
          },
          "metadata": {
            "tags": []
          },
          "execution_count": 4
        }
      ]
    },
    {
      "cell_type": "markdown",
      "metadata": {
        "id": "72vx256_pGJL"
      },
      "source": [
        "From describe function it can be inferred that there are no outliers present in data as 75th percentile and max values in \n",
        "each attribute are very close. Another important thing that can be inferred is that all attributes are pf very different \n",
        "scales which could effect the model so need to implement Normalization to bring all attributes to a common scale."
      ]
    },
    {
      "cell_type": "code",
      "metadata": {
        "id": "BnDJ8qIhpGJM"
      },
      "source": [
        "#  As beer id provides no important information in the data and also has high correlation with calorific value so we can drop beer id column \n",
        "data.drop(columns=['beer_id'], inplace=True)"
      ],
      "execution_count": null,
      "outputs": []
    },
    {
      "cell_type": "code",
      "metadata": {
        "id": "KoIh7SXEpGJM",
        "outputId": "4f79b85e-ef5d-4630-be5f-101b354769d0"
      },
      "source": [
        "#Splitting the independent variables and target variable\n",
        "\n",
        "feature_columns = data.columns.difference( ['style'] )\n",
        "\n",
        "#Implement Z-Normalization\n",
        "data[feature_columns] = StandardScaler().fit_transform(data[feature_columns])\n",
        "data[feature_columns]"
      ],
      "execution_count": null,
      "outputs": [
        {
          "output_type": "execute_result",
          "data": {
            "text/html": [
              "<div>\n",
              "<style scoped>\n",
              "    .dataframe tbody tr th:only-of-type {\n",
              "        vertical-align: middle;\n",
              "    }\n",
              "\n",
              "    .dataframe tbody tr th {\n",
              "        vertical-align: top;\n",
              "    }\n",
              "\n",
              "    .dataframe thead th {\n",
              "        text-align: right;\n",
              "    }\n",
              "</style>\n",
              "<table border=\"1\" class=\"dataframe\">\n",
              "  <thead>\n",
              "    <tr style=\"text-align: right;\">\n",
              "      <th></th>\n",
              "      <th>alcohol</th>\n",
              "      <th>bitterness</th>\n",
              "      <th>calorific_value</th>\n",
              "      <th>colour</th>\n",
              "      <th>degree_of_fermentation</th>\n",
              "      <th>nitrogen</th>\n",
              "      <th>sugars</th>\n",
              "      <th>turbidity</th>\n",
              "    </tr>\n",
              "  </thead>\n",
              "  <tbody>\n",
              "    <tr>\n",
              "      <th>0</th>\n",
              "      <td>0.037286</td>\n",
              "      <td>0.482762</td>\n",
              "      <td>0.025583</td>\n",
              "      <td>0.756048</td>\n",
              "      <td>-1.413095</td>\n",
              "      <td>1.411519</td>\n",
              "      <td>-0.544306</td>\n",
              "      <td>0.805470</td>\n",
              "    </tr>\n",
              "    <tr>\n",
              "      <th>1</th>\n",
              "      <td>0.346663</td>\n",
              "      <td>0.646778</td>\n",
              "      <td>0.297287</td>\n",
              "      <td>0.324405</td>\n",
              "      <td>-1.008469</td>\n",
              "      <td>1.583594</td>\n",
              "      <td>-0.553289</td>\n",
              "      <td>-0.117837</td>\n",
              "    </tr>\n",
              "    <tr>\n",
              "      <th>2</th>\n",
              "      <td>1.089169</td>\n",
              "      <td>1.383812</td>\n",
              "      <td>1.621845</td>\n",
              "      <td>-0.150402</td>\n",
              "      <td>-1.008089</td>\n",
              "      <td>0.946878</td>\n",
              "      <td>-0.589222</td>\n",
              "      <td>0.805470</td>\n",
              "    </tr>\n",
              "    <tr>\n",
              "      <th>3</th>\n",
              "      <td>0.482789</td>\n",
              "      <td>0.107756</td>\n",
              "      <td>1.401086</td>\n",
              "      <td>-0.150402</td>\n",
              "      <td>-0.989093</td>\n",
              "      <td>1.166921</td>\n",
              "      <td>1.351169</td>\n",
              "      <td>-0.085319</td>\n",
              "    </tr>\n",
              "    <tr>\n",
              "      <th>4</th>\n",
              "      <td>0.037286</td>\n",
              "      <td>0.184301</td>\n",
              "      <td>-1.027272</td>\n",
              "      <td>-0.279895</td>\n",
              "      <td>-0.939322</td>\n",
              "      <td>0.556960</td>\n",
              "      <td>-0.508373</td>\n",
              "      <td>0.420184</td>\n",
              "    </tr>\n",
              "    <tr>\n",
              "      <th>...</th>\n",
              "      <td>...</td>\n",
              "      <td>...</td>\n",
              "      <td>...</td>\n",
              "      <td>...</td>\n",
              "      <td>...</td>\n",
              "      <td>...</td>\n",
              "      <td>...</td>\n",
              "      <td>...</td>\n",
              "    </tr>\n",
              "    <tr>\n",
              "      <th>149</th>\n",
              "      <td>1.633673</td>\n",
              "      <td>-0.850529</td>\n",
              "      <td>-0.653678</td>\n",
              "      <td>-1.617988</td>\n",
              "      <td>1.169291</td>\n",
              "      <td>-0.373661</td>\n",
              "      <td>-0.589222</td>\n",
              "      <td>3.611850</td>\n",
              "    </tr>\n",
              "    <tr>\n",
              "      <th>150</th>\n",
              "      <td>0.693166</td>\n",
              "      <td>-0.450798</td>\n",
              "      <td>-0.619715</td>\n",
              "      <td>-0.884195</td>\n",
              "      <td>1.186577</td>\n",
              "      <td>0.209294</td>\n",
              "      <td>0.219274</td>\n",
              "      <td>1.055758</td>\n",
              "    </tr>\n",
              "    <tr>\n",
              "      <th>151</th>\n",
              "      <td>1.373796</td>\n",
              "      <td>-0.446250</td>\n",
              "      <td>0.891640</td>\n",
              "      <td>-1.445331</td>\n",
              "      <td>1.320503</td>\n",
              "      <td>-0.418672</td>\n",
              "      <td>1.584734</td>\n",
              "      <td>2.049027</td>\n",
              "    </tr>\n",
              "    <tr>\n",
              "      <th>152</th>\n",
              "      <td>0.618916</td>\n",
              "      <td>-1.679944</td>\n",
              "      <td>1.418067</td>\n",
              "      <td>-0.236731</td>\n",
              "      <td>1.358876</td>\n",
              "      <td>-0.505658</td>\n",
              "      <td>0.749288</td>\n",
              "      <td>-0.632208</td>\n",
              "    </tr>\n",
              "    <tr>\n",
              "      <th>153</th>\n",
              "      <td>0.470414</td>\n",
              "      <td>-0.386568</td>\n",
              "      <td>-0.178196</td>\n",
              "      <td>-1.186346</td>\n",
              "      <td>1.751344</td>\n",
              "      <td>-0.289963</td>\n",
              "      <td>2.033899</td>\n",
              "      <td>0.797587</td>\n",
              "    </tr>\n",
              "  </tbody>\n",
              "</table>\n",
              "<p>154 rows × 8 columns</p>\n",
              "</div>"
            ],
            "text/plain": [
              "      alcohol  bitterness  calorific_value    colour  degree_of_fermentation  \\\n",
              "0    0.037286    0.482762         0.025583  0.756048               -1.413095   \n",
              "1    0.346663    0.646778         0.297287  0.324405               -1.008469   \n",
              "2    1.089169    1.383812         1.621845 -0.150402               -1.008089   \n",
              "3    0.482789    0.107756         1.401086 -0.150402               -0.989093   \n",
              "4    0.037286    0.184301        -1.027272 -0.279895               -0.939322   \n",
              "..        ...         ...              ...       ...                     ...   \n",
              "149  1.633673   -0.850529        -0.653678 -1.617988                1.169291   \n",
              "150  0.693166   -0.450798        -0.619715 -0.884195                1.186577   \n",
              "151  1.373796   -0.446250         0.891640 -1.445331                1.320503   \n",
              "152  0.618916   -1.679944         1.418067 -0.236731                1.358876   \n",
              "153  0.470414   -0.386568        -0.178196 -1.186346                1.751344   \n",
              "\n",
              "     nitrogen    sugars  turbidity  \n",
              "0    1.411519 -0.544306   0.805470  \n",
              "1    1.583594 -0.553289  -0.117837  \n",
              "2    0.946878 -0.589222   0.805470  \n",
              "3    1.166921  1.351169  -0.085319  \n",
              "4    0.556960 -0.508373   0.420184  \n",
              "..        ...       ...        ...  \n",
              "149 -0.373661 -0.589222   3.611850  \n",
              "150  0.209294  0.219274   1.055758  \n",
              "151 -0.418672  1.584734   2.049027  \n",
              "152 -0.505658  0.749288  -0.632208  \n",
              "153 -0.289963  2.033899   0.797587  \n",
              "\n",
              "[154 rows x 8 columns]"
            ]
          },
          "metadata": {
            "tags": []
          },
          "execution_count": 6
        }
      ]
    },
    {
      "cell_type": "code",
      "metadata": {
        "id": "0HDMwukUpGJN",
        "outputId": "29d39b6b-2b2f-4101-e313-ef43ed5e53fe"
      },
      "source": [
        "data['style'].value_counts()"
      ],
      "execution_count": null,
      "outputs": [
        {
          "output_type": "execute_result",
          "data": {
            "text/plain": [
              "lager    54\n",
              "ale      52\n",
              "stout    48\n",
              "Name: style, dtype: int64"
            ]
          },
          "metadata": {
            "tags": []
          },
          "execution_count": 7
        }
      ]
    },
    {
      "cell_type": "code",
      "metadata": {
        "id": "1d4DnGqZpGJN"
      },
      "source": [
        "#Preprocessing dataset for algorithm\n",
        "X = data[feature_columns]\n",
        "target_map_dict = {'stout':0, 'ale':1, 'lager':2}                 # Dictionary to Map the object values of target variable to integer for model building\n",
        "target_remap_dict = {0 :'stout' , 1 :'ale' , 2 :'lager'}          # Remap the intgers values of target variables to their object names.\n",
        "y = data['style'].map(target_map_dict)                            # Map the object values of target variable to integer for model building\n",
        "y_unique = np.unique(y)                                           # All uniques calsses in target variable"
      ],
      "execution_count": null,
      "outputs": []
    },
    {
      "cell_type": "markdown",
      "metadata": {
        "id": "lWeg2IehpGJO"
      },
      "source": [
        "### 2. Modelling Logistic Regression"
      ]
    },
    {
      "cell_type": "code",
      "metadata": {
        "id": "h5zAmR42pGJO"
      },
      "source": [
        "# Modelling logistic regression\n",
        "\n",
        "# Sigmoid function\n",
        "def sigmoid(h):\n",
        "    return 1.0 / (1 + np.exp(-h))                   # Function to map the predicted values to probabilites\n",
        "\n",
        "def logisticRegression(X, y,theta,num_iter):\n",
        "       \n",
        "    #Cost function\n",
        "    def costFunc(theta, X, y,y_pred):               # Cost Function to minimize the error(absolute difference between y_actual and y_predicted)\n",
        "        return (1 / len(y)) * (-y.T.dot(np.log(y_pred)) - (1 - y).T.dot(np.log(1 - y_pred)))\n",
        "    \n",
        "    #Gradient descent function \n",
        "    def gradientFunc(theta, X, y, y_pred):          # Function to reduce the cost value\n",
        "        m, n = X.shape                              # Find the shape of the feature array\n",
        "        theta = theta.reshape((n, 1))\n",
        "        y = y.reshape((m, 1))\n",
        "        return ((1 / m) * X.T.dot(y_pred - y)) + (theta /m)             # Return the delta or difference from theta to get closer to y_actual\n",
        "    \n",
        "    #Finding best theta\n",
        "    min_cost = 10000000\n",
        "    for i in range(num_iter):                               # Run the model fitting for n number of iterations\n",
        "        y_pred = sigmoid(np.dot(X, theta))                  # Calculate the probabilties of a particular class of target variable\n",
        "        cost = costFunc(theta, X,y,y_pred)                  # Calculating cost function of each class  \n",
        "        cost = cost.sum(axis = 0)                           # Calculate the overall cost for particular set of theta array\n",
        "        if cost < min_cost:                                 # Stop if the cost is not getting minimized\n",
        "            min_cost = cost\n",
        "            delta = gradientFunc(theta,X,y,y_pred)          # Applying gradient descent to find new theta\n",
        "            theta = theta - delta                           # Substract the delta from theta array to get new set of theta that will minimize the error\n",
        "                                                            # between actaul and predicted values\n",
        "    return theta "
      ],
      "execution_count": null,
      "outputs": []
    },
    {
      "cell_type": "markdown",
      "metadata": {
        "id": "udbttMgSpGJP"
      },
      "source": [
        "### 3. Using K-Fold cross validation and predicting"
      ]
    },
    {
      "cell_type": "code",
      "metadata": {
        "id": "7mEgjKCzpGJP",
        "outputId": "32494bfe-d65b-43f2-b6a2-12f65ec7331e"
      },
      "source": [
        "score = list()                    # a List to append accuracy score for each fold\n",
        "\n",
        "all_fold_roc_class = list()       # a List of dictionary for each fold (10), where each dictionary contains\n",
        "                                  # a nested dictionary representing each class labels (0,1,2) which has : \n",
        "                                  #                                                            False positive rate\n",
        "                                  #                                                            True positive rate\n",
        "                                  #                                                            AUC score\n",
        "                                  # i.e.,\n",
        "                                  # all_fold_roc_class[fold][class_label][FP rate/ TP rate / AUC score]\n",
        "            \n",
        "# Pandas dataframe to store the score for each fold\n",
        "result_df = pd.DataFrame(columns=['Fold','Logistic Regression score (%)',\n",
        "                                  'Misclassification in Fold'])             \n",
        "\n",
        "# KFold cross validation\n",
        "for fold in range(10):\n",
        "    missclass = 0                    # show the misclassification in each class\n",
        "    \n",
        "    train_X, test_X, train_y, test_y = train_test_split( X,y,test_size = 0.33,random_state=fold)\n",
        "    train_X = np.array(train_X)\n",
        "    test_X = np.array(test_X)\n",
        "    train_y = np.array(train_y)\n",
        "    test_y = np.array(test_y)\n",
        "\n",
        "    i,k,n= 0,3,8                    # No of classes and features\n",
        "    all_theta = np.zeros((k, n))\n",
        "    for style in y_unique:\n",
        "        y_train = np.array(train_y == style, dtype = int)\n",
        "        best_theta = logisticRegression(train_X, y_train, np.zeros((n,1)),10000)\n",
        "        all_theta[i] = best_theta.T             # best fit weight for each class label\n",
        "        i += 1   \n",
        "    \n",
        "    #Predictions and ROC curve \n",
        "    X_pred = test_X       #train_X   -- use if you want to predict training data with the model\n",
        "    y_pred = test_y       #train_y   -- use if you want to predict training data with the model\n",
        "    \n",
        "    prediction = sigmoid(X_pred.dot(all_theta.T))           # call the function to find the predicted labels\n",
        "    \n",
        "    prediction = prediction.tolist()\n",
        "    \n",
        "    pred = list()                            # a list which contains predicted labels\n",
        "    act = list()                             # a list which contains actual test labels\n",
        "    \n",
        "    pred_binarised = list()                  # a list for 1 hot encoding of predicted labels\n",
        "    act_binarised = list()                   # a list for 1 hot encoding of actual test labels\n",
        "    \n",
        "    for idx,item in enumerate(prediction):                      # for every item in predictions\n",
        "        \n",
        "        if target_remap_dict[ item.index(max(item)) ] !=  target_remap_dict[y_pred[idx]]:\n",
        "            missclass += 1                                     # if the predicted labels does not match with actual label\n",
        "        \n",
        "        pred.append(target_remap_dict[item.index(max(item))])  # append the value by converting it back to label name\n",
        "        act.append(target_remap_dict[y_pred[idx]])             # append the value by converting it back to label name\n",
        "        \n",
        "        pred_binarised.append(item.index(max(item)))           # append the raw numerical value\n",
        "        act_binarised.append(y_pred[idx])                      # append the raw numerical value\n",
        "        \n",
        "    score.append(round(accuracy_score(act,pred)*100,2))        # calculate the accuracy\n",
        "    \n",
        "    result_df.loc[fold] = [fold+1,score[fold],missclass]       # append it to result df\n",
        "    \n",
        "    # Compute ROC curve and Area under ROC for each class\n",
        "    fpr = dict()                                               # False positive rate\n",
        "    tpr = dict()                                               # True positive rate\n",
        "    roc_auc = dict()                                           # auc score\n",
        "    for i in range(3):                                         # for each label\n",
        "        fold_y_true = pd.get_dummies(act_binarised)[i]         # one-hot encoding for the test labels - select label \n",
        "        class_pred = np.array(prediction)[:,i]                 # select the label probabilities from predictions\n",
        "        fpr[i], tpr[i], thr = roc_curve(fold_y_true, class_pred)   # calculate the respective vlaues to plot ROC curve\n",
        "        roc_auc[i] = auc(fpr[i], tpr[i])\n",
        "        \n",
        "    all_fold_roc_class.append([fpr,tpr,roc_auc])               # append the ROC curve values for each fold to a list\n",
        "    \n",
        "\n",
        "display(result_df)                                            \n",
        "print(\"The overall score for Logistic Regression is: \", round(sum(score)/len(score),2),'%')"
      ],
      "execution_count": null,
      "outputs": [
        {
          "output_type": "display_data",
          "data": {
            "text/html": [
              "<div>\n",
              "<style scoped>\n",
              "    .dataframe tbody tr th:only-of-type {\n",
              "        vertical-align: middle;\n",
              "    }\n",
              "\n",
              "    .dataframe tbody tr th {\n",
              "        vertical-align: top;\n",
              "    }\n",
              "\n",
              "    .dataframe thead th {\n",
              "        text-align: right;\n",
              "    }\n",
              "</style>\n",
              "<table border=\"1\" class=\"dataframe\">\n",
              "  <thead>\n",
              "    <tr style=\"text-align: right;\">\n",
              "      <th></th>\n",
              "      <th>Fold</th>\n",
              "      <th>Logistic Regression score (%)</th>\n",
              "      <th>Misclassification in Fold</th>\n",
              "    </tr>\n",
              "  </thead>\n",
              "  <tbody>\n",
              "    <tr>\n",
              "      <th>0</th>\n",
              "      <td>1.0</td>\n",
              "      <td>98.04</td>\n",
              "      <td>1.0</td>\n",
              "    </tr>\n",
              "    <tr>\n",
              "      <th>1</th>\n",
              "      <td>2.0</td>\n",
              "      <td>100.00</td>\n",
              "      <td>0.0</td>\n",
              "    </tr>\n",
              "    <tr>\n",
              "      <th>2</th>\n",
              "      <td>3.0</td>\n",
              "      <td>94.12</td>\n",
              "      <td>3.0</td>\n",
              "    </tr>\n",
              "    <tr>\n",
              "      <th>3</th>\n",
              "      <td>4.0</td>\n",
              "      <td>96.08</td>\n",
              "      <td>2.0</td>\n",
              "    </tr>\n",
              "    <tr>\n",
              "      <th>4</th>\n",
              "      <td>5.0</td>\n",
              "      <td>92.16</td>\n",
              "      <td>4.0</td>\n",
              "    </tr>\n",
              "    <tr>\n",
              "      <th>5</th>\n",
              "      <td>6.0</td>\n",
              "      <td>96.08</td>\n",
              "      <td>2.0</td>\n",
              "    </tr>\n",
              "    <tr>\n",
              "      <th>6</th>\n",
              "      <td>7.0</td>\n",
              "      <td>96.08</td>\n",
              "      <td>2.0</td>\n",
              "    </tr>\n",
              "    <tr>\n",
              "      <th>7</th>\n",
              "      <td>8.0</td>\n",
              "      <td>98.04</td>\n",
              "      <td>1.0</td>\n",
              "    </tr>\n",
              "    <tr>\n",
              "      <th>8</th>\n",
              "      <td>9.0</td>\n",
              "      <td>100.00</td>\n",
              "      <td>0.0</td>\n",
              "    </tr>\n",
              "    <tr>\n",
              "      <th>9</th>\n",
              "      <td>10.0</td>\n",
              "      <td>94.12</td>\n",
              "      <td>3.0</td>\n",
              "    </tr>\n",
              "  </tbody>\n",
              "</table>\n",
              "</div>"
            ],
            "text/plain": [
              "   Fold  Logistic Regression score (%)  Misclassification in Fold\n",
              "0   1.0                          98.04                        1.0\n",
              "1   2.0                         100.00                        0.0\n",
              "2   3.0                          94.12                        3.0\n",
              "3   4.0                          96.08                        2.0\n",
              "4   5.0                          92.16                        4.0\n",
              "5   6.0                          96.08                        2.0\n",
              "6   7.0                          96.08                        2.0\n",
              "7   8.0                          98.04                        1.0\n",
              "8   9.0                         100.00                        0.0\n",
              "9  10.0                          94.12                        3.0"
            ]
          },
          "metadata": {
            "tags": []
          }
        },
        {
          "output_type": "stream",
          "text": [
            "The overall score for Logistic Regression is:  96.47 %\n"
          ],
          "name": "stdout"
        }
      ]
    },
    {
      "cell_type": "markdown",
      "metadata": {
        "id": "iDhjXJaEpGJU"
      },
      "source": [
        "### 4. Confusion Matrix"
      ]
    },
    {
      "cell_type": "code",
      "metadata": {
        "id": "xYl39hxopGJV"
      },
      "source": [
        "# a confusion matrix for all class label\n",
        "# accepts a series of actual and predicted labels from the model\n",
        "\n",
        "def confusionmatrix_all(actual,predictions):\n",
        "    \n",
        "    # create a dataframe of the actiual and predicted labels\n",
        "    df = pd.DataFrame(list(zip(actual,predictions)),columns = ['True_labels','prediction'])\n",
        "    \n",
        "    # compute the cross tabulation from the passed df\n",
        "    cnf_mtrx = pd.crosstab(df['True_labels'], df['prediction'], rownames=['True_labels'], colnames=['prediction'])\n",
        "    \n",
        "    # use seaborn to plot the confusion matrix\n",
        "    sn.heatmap(cnf_mtrx, annot=True)\n",
        "    plt.title('Test Confusion Matrix')\n",
        "    plt.show()"
      ],
      "execution_count": null,
      "outputs": []
    },
    {
      "cell_type": "code",
      "metadata": {
        "id": "HxsO0CPFpGJV"
      },
      "source": [
        "# a confusion matrix for all individual class label\n",
        "# accepts a series of actual and predicted labels from the model and the label\n",
        "\n",
        "def confusionmatrix_individual(actual,predictions,label):\n",
        "    \n",
        "    # perform 1 hot encoding of actual labels and select the passed label values\n",
        "    # convert the 1's and 0's to label name and others to represent true and false values\n",
        "    # perform same for predicted labels values\n",
        "    \n",
        "    actual_series = pd.get_dummies(actual)[label].replace({0: 'others', 1: label})\n",
        "    prediction_series = pd.get_dummies(predictions)[label].replace({0: 'others', 1: label})\n",
        "    \n",
        "    # create a dataframe with the above 2 series\n",
        "    df = pd.DataFrame(list(zip(actual_series,prediction_series)),columns = ['True_labels','prediction'])\n",
        "    \n",
        "    # create a cross tabulation from the passed dataframe\n",
        "    cnf_mtrx = pd.crosstab(df['True_labels'], df['prediction'], rownames=['True_labels'], colnames=['prediction'])\n",
        "\n",
        "    #use seaborn to plot the confusion matrix\n",
        "    sn.heatmap(cnf_mtrx, annot=True)\n",
        "    plt.title('Confusion Matrix for ' + label)\n",
        "    plt.show()"
      ],
      "execution_count": null,
      "outputs": []
    },
    {
      "cell_type": "code",
      "metadata": {
        "id": "f-MwqAaupGJV",
        "outputId": "54f43fdc-fb5b-4ac2-874c-03cd84a5593e"
      },
      "source": [
        "confusionmatrix_all(act,pred)"
      ],
      "execution_count": null,
      "outputs": [
        {
          "output_type": "display_data",
          "data": {
            "image/png": "[encoded data removed]",
            "text/plain": [
              "<Figure size 432x288 with 2 Axes>"
            ]
          },
          "metadata": {
            "tags": [],
            "needs_background": "light"
          }
        }
      ]
    },
    {
      "cell_type": "code",
      "metadata": {
        "id": "7iEu3ASNpGJW",
        "outputId": "41d9e0f2-6603-4161-870d-eb6f98329d08"
      },
      "source": [
        "confusionmatrix_individual(act,pred,'ale')\n",
        "#confusionmatrix_individual(act,pred,'stout')\n",
        "#confusionmatrix_individual(act,pred,'lager')"
      ],
      "execution_count": null,
      "outputs": [
        {
          "output_type": "display_data",
          "data": {
            "image/png": "[encoded data removed]",
            "text/plain": [
              "<Figure size 432x288 with 2 Axes>"
            ]
          },
          "metadata": {
            "tags": [],
            "needs_background": "light"
          }
        }
      ]
    },
    {
      "cell_type": "markdown",
      "metadata": {
        "id": "JTBNSto4pGJW"
      },
      "source": [
        "### 5. Printing the ROC which was calculated for each fold in pt 4\n"
      ]
    },
    {
      "cell_type": "code",
      "metadata": {
        "id": "HNGtttUApGJW"
      },
      "source": [
        "#print ROC for fold# -- pass fold value\n",
        "# all_fold_roc_class[fold][class_label][FP rate/ TP rate / AUC score]\n",
        "\n",
        "def print_ROC(fold):\n",
        "    fig, ax = plt.subplots()\n",
        "    ax.plot([0, 1], [0, 1], 'k--')\n",
        "    ax.set_xlim([0.0, 1.0])\n",
        "    ax.set_ylim([0.0, 1.0])\n",
        "    ax.set_xlabel('False Positive Rate')\n",
        "    ax.set_ylabel('True Positive Rate')\n",
        "    ax.set_title('Receiver operating characteristic for fold %i' % (fold+1))\n",
        "    for i in range(3):\n",
        "        ax.plot(all_fold_roc_class[fold][0][i], all_fold_roc_class[fold][1][i], label='ROC curve (area = %0.2f) for label %i' % (all_fold_roc_class[fold][2][i], i))\n",
        "    ax.legend(loc=\"best\")\n",
        "    ax.grid(alpha=.4)\n",
        "    sn.despine()\n",
        "    plt.show()"
      ],
      "execution_count": null,
      "outputs": []
    },
    {
      "cell_type": "code",
      "metadata": {
        "id": "1lvyMfmkpGJX",
        "outputId": "afc2a22c-5e34-4066-aa14-694be32c44c7"
      },
      "source": [
        "print_ROC(9)"
      ],
      "execution_count": null,
      "outputs": [
        {
          "output_type": "display_data",
          "data": {
            "image/png": "[encoded data removed]",
            "text/plain": [
              "<Figure size 432x288 with 1 Axes>"
            ]
          },
          "metadata": {
            "tags": [],
            "needs_background": "light"
          }
        }
      ]
    },
    {
      "cell_type": "code",
      "metadata": {
        "id": "E-awzMkMpGJX",
        "outputId": "f219f247-2be0-4b74-b321-f1fb2e0c448e"
      },
      "source": [
        "# classification report for fold 10\n",
        "from sklearn.metrics import classification_report\n",
        "\n",
        "print('\\nClassification Report\\n')\n",
        "print(classification_report(act, pred, target_names=['Stout', 'Ale', 'Lager']))"
      ],
      "execution_count": null,
      "outputs": [
        {
          "output_type": "stream",
          "text": [
            "\n",
            "Classification Report\n",
            "\n",
            "              precision    recall  f1-score   support\n",
            "\n",
            "       Stout       0.95      0.90      0.92        20\n",
            "         Ale       0.95      0.95      0.95        19\n",
            "       Lager       0.92      1.00      0.96        12\n",
            "\n",
            "    accuracy                           0.94        51\n",
            "   macro avg       0.94      0.95      0.94        51\n",
            "weighted avg       0.94      0.94      0.94        51\n",
            "\n"
          ],
          "name": "stdout"
        }
      ]
    },
    {
      "cell_type": "markdown",
      "metadata": {
        "id": "FgxdV35XpGJX"
      },
      "source": [
        "### Reference Logistic Regression from Sklearn"
      ]
    },
    {
      "cell_type": "code",
      "metadata": {
        "id": "meMgiuDbpGJX"
      },
      "source": [
        "from sklearn.linear_model import LogisticRegression\n",
        "from sklearn.metrics import confusion_matrix\n",
        "from sklearn.preprocessing import label_binarize "
      ],
      "execution_count": null,
      "outputs": []
    },
    {
      "cell_type": "code",
      "metadata": {
        "id": "3lzz1CXGpGJX",
        "outputId": "83a7c786-138d-45ed-da25-2b787b9fb061"
      },
      "source": [
        "score_1 = list()\n",
        "score_2 = list()\n",
        "\n",
        "all_fold_roc_class_1 = list()\n",
        "\n",
        "result_df_1 = pd.DataFrame(columns=['Fold','Logistic Regression score (%)'])\n",
        "result_df_2 = pd.DataFrame(columns=['Fold','Logistic Regression score (%)'])\n",
        "\n",
        "#KFold cross validation\n",
        "for fold in range(10):\n",
        "    \n",
        "    train_X, test_X, train_y, test_y = train_test_split( X,y,test_size = 0.33,random_state=fold)\n",
        "    \n",
        "    logreg = LogisticRegression(multi_class='multinomial')\n",
        "    logreg.fit( train_X, train_y )\n",
        "    \n",
        "    score_1.append(round(accuracy_score(test_y,logreg.predict( test_X ))*100,2))\n",
        "    \n",
        "    score_2.append(round(accuracy_score(train_y,logreg.predict( train_X ))*100,2))\n",
        "    \n",
        "    result_df_1.loc[fold] = [fold+1,score_1[fold]]\n",
        "    \n",
        "    result_df_2.loc[fold] = [fold+1,score_2[fold]]\n",
        "    \n",
        "    \n",
        "display(result_df_1)\n",
        "print(\"The overall score for Logistic Regression is: \", round(sum(score_1)/len(score_1),2),'%')"
      ],
      "execution_count": null,
      "outputs": [
        {
          "output_type": "display_data",
          "data": {
            "text/html": [
              "<div>\n",
              "<style scoped>\n",
              "    .dataframe tbody tr th:only-of-type {\n",
              "        vertical-align: middle;\n",
              "    }\n",
              "\n",
              "    .dataframe tbody tr th {\n",
              "        vertical-align: top;\n",
              "    }\n",
              "\n",
              "    .dataframe thead th {\n",
              "        text-align: right;\n",
              "    }\n",
              "</style>\n",
              "<table border=\"1\" class=\"dataframe\">\n",
              "  <thead>\n",
              "    <tr style=\"text-align: right;\">\n",
              "      <th></th>\n",
              "      <th>Fold</th>\n",
              "      <th>Logistic Regression score (%)</th>\n",
              "    </tr>\n",
              "  </thead>\n",
              "  <tbody>\n",
              "    <tr>\n",
              "      <th>0</th>\n",
              "      <td>1.0</td>\n",
              "      <td>96.08</td>\n",
              "    </tr>\n",
              "    <tr>\n",
              "      <th>1</th>\n",
              "      <td>2.0</td>\n",
              "      <td>96.08</td>\n",
              "    </tr>\n",
              "    <tr>\n",
              "      <th>2</th>\n",
              "      <td>3.0</td>\n",
              "      <td>92.16</td>\n",
              "    </tr>\n",
              "    <tr>\n",
              "      <th>3</th>\n",
              "      <td>4.0</td>\n",
              "      <td>96.08</td>\n",
              "    </tr>\n",
              "    <tr>\n",
              "      <th>4</th>\n",
              "      <td>5.0</td>\n",
              "      <td>94.12</td>\n",
              "    </tr>\n",
              "    <tr>\n",
              "      <th>5</th>\n",
              "      <td>6.0</td>\n",
              "      <td>96.08</td>\n",
              "    </tr>\n",
              "    <tr>\n",
              "      <th>6</th>\n",
              "      <td>7.0</td>\n",
              "      <td>94.12</td>\n",
              "    </tr>\n",
              "    <tr>\n",
              "      <th>7</th>\n",
              "      <td>8.0</td>\n",
              "      <td>94.12</td>\n",
              "    </tr>\n",
              "    <tr>\n",
              "      <th>8</th>\n",
              "      <td>9.0</td>\n",
              "      <td>98.04</td>\n",
              "    </tr>\n",
              "    <tr>\n",
              "      <th>9</th>\n",
              "      <td>10.0</td>\n",
              "      <td>96.08</td>\n",
              "    </tr>\n",
              "  </tbody>\n",
              "</table>\n",
              "</div>"
            ],
            "text/plain": [
              "   Fold  Logistic Regression score (%)\n",
              "0   1.0                          96.08\n",
              "1   2.0                          96.08\n",
              "2   3.0                          92.16\n",
              "3   4.0                          96.08\n",
              "4   5.0                          94.12\n",
              "5   6.0                          96.08\n",
              "6   7.0                          94.12\n",
              "7   8.0                          94.12\n",
              "8   9.0                          98.04\n",
              "9  10.0                          96.08"
            ]
          },
          "metadata": {
            "tags": []
          }
        },
        {
          "output_type": "stream",
          "text": [
            "The overall score for Logistic Regression is:  95.3 %\n"
          ],
          "name": "stdout"
        }
      ]
    },
    {
      "cell_type": "code",
      "metadata": {
        "id": "fXsEgcJ_pGJY"
      },
      "source": [
        "beer_test_pred_1 = pd.DataFrame( { 'actual':  test_y,\n",
        "                            'predicted': logreg.predict( test_X ) } )\n",
        "\n",
        "beer_test_pred_1 = beer_test_pred_1.replace({0: 'stout', 1:'ale', 2:'lager'})"
      ],
      "execution_count": null,
      "outputs": []
    },
    {
      "cell_type": "code",
      "metadata": {
        "id": "lfKZXSI7pGJY"
      },
      "source": [
        "cm_test_1 = confusion_matrix( beer_test_pred_1.actual,\n",
        "                            beer_test_pred_1.predicted)\n"
      ],
      "execution_count": null,
      "outputs": []
    },
    {
      "cell_type": "code",
      "metadata": {
        "scrolled": true,
        "id": "14C-FWRfpGJY",
        "outputId": "fdf11f30-4e40-44f1-9802-dc7fb3cd9f1a"
      },
      "source": [
        "sn.heatmap(cm_test_1, annot=True,  fmt='.2f', xticklabels = [\"ale\", \"lager\",\"stout\"] , yticklabels =[\"ale\", \"lager\",\"stout\"] )\n",
        "plt.ylabel('True label')\n",
        "plt.xlabel('Predicted label')\n",
        "plt.title('Test Confusion Matrix')\n",
        "plt.savefig('Test_CM.jpg')"
      ],
      "execution_count": null,
      "outputs": [
        {
          "output_type": "display_data",
          "data": {
            "image/png": "[encoded data removed]",
            "text/plain": [
              "<Figure size 432x288 with 2 Axes>"
            ]
          },
          "metadata": {
            "tags": [],
            "needs_background": "light"
          }
        }
      ]
    },
    {
      "cell_type": "code",
      "metadata": {
        "id": "ihdghM_ppGJY"
      },
      "source": [
        "# Compute ROC curve and ROC area for each class\n",
        "    #fold_roc_class = list()\n",
        "LR_fpr = dict()\n",
        "LR_tpr = dict()\n",
        "LR_roc_auc = dict()\n",
        "for i in range(3):\n",
        "    fold_y_true = label_binarize(test_y,classes=[0,1,2])[:,i]\n",
        "    class_pred = np.array(logreg.predict_proba( test_X ))[:,i]\n",
        "    LR_fpr[i], LR_tpr[i], thrs = roc_curve(fold_y_true, class_pred)\n",
        "    LR_roc_auc[i] = auc(LR_fpr[i], LR_tpr[i])"
      ],
      "execution_count": null,
      "outputs": []
    },
    {
      "cell_type": "code",
      "metadata": {
        "id": "muShiA0vpGJZ",
        "outputId": "130dea16-aaf2-40d4-c03a-0a75644f1070"
      },
      "source": [
        "fig, ax = plt.subplots()\n",
        "ax.plot([0, 1], [0, 1], 'k--')\n",
        "ax.set_xlim([0.0, 1.0])\n",
        "ax.set_ylim([0.0, 1.0])\n",
        "ax.set_xlabel('False Positive Rate')\n",
        "ax.set_ylabel('True Positive Rate')\n",
        "ax.set_title('Receiver operating characteristic for LR')\n",
        "for i in range(3):\n",
        "    ax.plot(LR_fpr[i], LR_tpr[i], label='ROC curve (area = %0.2f) for label %i' % (LR_roc_auc[i], i))\n",
        "ax.legend(loc=\"best\")\n",
        "ax.grid(alpha=.4)\n",
        "sn.despine()\n",
        "plt.show()"
      ],
      "execution_count": null,
      "outputs": [
        {
          "output_type": "display_data",
          "data": {
            "image/png": "[encoded data removed]",
            "text/plain": [
              "<Figure size 432x288 with 1 Axes>"
            ]
          },
          "metadata": {
            "tags": [],
            "needs_background": "light"
          }
        }
      ]
    },
    {
      "cell_type": "code",
      "metadata": {
        "id": "tHJYbL_3pGJZ",
        "outputId": "74600e4d-8010-47df-c62b-482c96ba45c9"
      },
      "source": [
        "print('\\nClassification Report\\n')\n",
        "print(classification_report(beer_test_pred_1.actual,beer_test_pred_1.predicted, target_names=['Stout', 'Ale', 'Lager']))"
      ],
      "execution_count": null,
      "outputs": [
        {
          "output_type": "stream",
          "text": [
            "\n",
            "Classification Report\n",
            "\n",
            "              precision    recall  f1-score   support\n",
            "\n",
            "       Stout       1.00      0.90      0.95        20\n",
            "         Ale       0.90      1.00      0.95        19\n",
            "       Lager       1.00      1.00      1.00        12\n",
            "\n",
            "    accuracy                           0.96        51\n",
            "   macro avg       0.97      0.97      0.97        51\n",
            "weighted avg       0.96      0.96      0.96        51\n",
            "\n"
          ],
          "name": "stdout"
        }
      ]
    }
  ]
}